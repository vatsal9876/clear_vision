{
  "nbformat": 4,
  "nbformat_minor": 0,
  "metadata": {
    "colab": {
      "provenance": []
    },
    "kernelspec": {
      "name": "python3",
      "display_name": "Python 3"
    },
    "language_info": {
      "name": "python"
    }
  },
  "cells": [
    {
      "cell_type": "code",
      "source": [
        "import cv2\n",
        "import numpy as np\n",
        "from PIL import Image\n",
        "import matplotlib.pyplot as plt\n",
        "import random"
      ],
      "metadata": {
        "id": "waDx9WPJ-2jF"
      },
      "execution_count": null,
      "outputs": []
    },
    {
      "cell_type": "code",
      "source": [
        "def apply_random_mask_pil(img, mask_ratio=0.3):\n",
        "    # img here is numpy array with float [0,1]\n",
        "    img_pil = Image.fromarray((img * 255).astype(np.uint8))\n",
        "    w, h = img_pil.size\n",
        "    mask_w, mask_h = int(w * mask_ratio), int(h * mask_ratio)\n",
        "    left = random.randint(0, w - mask_w)\n",
        "    top = random.randint(0, h - mask_h)\n",
        "    mask = Image.new('RGB', (w, h), (255, 255, 255))\n",
        "    mask_draw = Image.new('RGB', (mask_w, mask_h), (0, 0, 0))\n",
        "    img_pil.paste(mask_draw, (left, top))\n",
        "    return np.array(img_pil).astype(np.float32) / 255.0"
      ],
      "metadata": {
        "id": "sGQv8ifH-z34"
      },
      "execution_count": 3,
      "outputs": []
    },
    {
      "cell_type": "code",
      "execution_count": 1,
      "metadata": {
        "id": "8ERVJX1K-byU"
      },
      "outputs": [],
      "source": [
        "def add_gaussian_noise_cv(img, mean=0, std=0.1):\n",
        "    noise = np.random.normal(mean, std, img.shape).astype(np.float32)\n",
        "    noisy = img + noise\n",
        "    noisy = np.clip(noisy, 0, 1)\n",
        "    return noisy"
      ]
    },
    {
      "cell_type": "code",
      "source": [
        "def blur_image_cv(img, ksize=5):\n",
        "    ksize = (ksize, ksize)\n",
        "    blurred = cv2.blur(img, ksize)\n",
        "    return blurred"
      ],
      "metadata": {
        "id": "S_XYOxK--ubg"
      },
      "execution_count": 4,
      "outputs": []
    },
    {
      "cell_type": "code",
      "source": [
        "def random_corruption(img):\n",
        "    corrupted = img\n",
        "    if random.random() < 0.5:\n",
        "        corrupted = add_gaussian_noise_cv(corrupted)\n",
        "    if random.random() < 0.5:\n",
        "        corrupted = blur_image_cv(corrupted)\n",
        "    if random.random() < 0.3:\n",
        "        corrupted = apply_random_mask_pil(corrupted)\n",
        "    return corrupted"
      ],
      "metadata": {
        "id": "yti4KArW_Ltz"
      },
      "execution_count": null,
      "outputs": []
    }
  ]
}