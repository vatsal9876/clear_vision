{
  "cells": [
    {
      "cell_type": "code",
      "execution_count": 1,
      "metadata": {
        "id": "waDx9WPJ-2jF"
      },
      "outputs": [
        {
          "ename": "ModuleNotFoundError",
          "evalue": "No module named 'cv2'",
          "output_type": "error",
          "traceback": [
            "\u001b[31m---------------------------------------------------------------------------\u001b[39m",
            "\u001b[31mModuleNotFoundError\u001b[39m                       Traceback (most recent call last)",
            "\u001b[36mCell\u001b[39m\u001b[36m \u001b[39m\u001b[32mIn[1]\u001b[39m\u001b[32m, line 1\u001b[39m\n\u001b[32m----> \u001b[39m\u001b[32m1\u001b[39m \u001b[38;5;28;01mimport\u001b[39;00m\u001b[38;5;250m \u001b[39m\u001b[34;01mcv2\u001b[39;00m\n\u001b[32m      2\u001b[39m \u001b[38;5;28;01mimport\u001b[39;00m\u001b[38;5;250m \u001b[39m\u001b[34;01mnumpy\u001b[39;00m\u001b[38;5;250m \u001b[39m\u001b[38;5;28;01mas\u001b[39;00m\u001b[38;5;250m \u001b[39m\u001b[34;01mnp\u001b[39;00m\n\u001b[32m      3\u001b[39m \u001b[38;5;28;01mfrom\u001b[39;00m\u001b[38;5;250m \u001b[39m\u001b[34;01mPIL\u001b[39;00m\u001b[38;5;250m \u001b[39m\u001b[38;5;28;01mimport\u001b[39;00m Image\n",
            "\u001b[31mModuleNotFoundError\u001b[39m: No module named 'cv2'"
          ]
        }
      ],
      "source": [
        "\n",
        "import cv2\n",
        "import numpy as np\n",
        "from PIL import Image\n",
        "import matplotlib.pyplot as plt\n",
        "import random"
      ]
    },
    {
      "cell_type": "code",
      "execution_count": 3,
      "metadata": {
        "id": "sGQv8ifH-z34"
      },
      "outputs": [],
      "source": [
        "def apply_random_mask_pil(img, mask_ratio=0.3):\n",
        "    # img here is numpy array with float [0,1]\n",
        "    img_pil = Image.fromarray((img * 255).astype(np.uint8))\n",
        "    w, h = img_pil.size\n",
        "    mask_w, mask_h = int(w * mask_ratio), int(h * mask_ratio)\n",
        "    left = random.randint(0, w - mask_w)\n",
        "    top = random.randint(0, h - mask_h)\n",
        "    mask = Image.new('RGB', (w, h), (255, 255, 255))\n",
        "    mask_draw = Image.new('RGB', (mask_w, mask_h), (0, 0, 0))\n",
        "    img_pil.paste(mask_draw, (left, top))\n",
        "    return np.array(img_pil).astype(np.float32) / 255.0"
      ]
    },
    {
      "cell_type": "code",
      "execution_count": 1,
      "metadata": {
        "id": "8ERVJX1K-byU"
      },
      "outputs": [],
      "source": [
        "def add_gaussian_noise_cv(img, mean=0, std=0.1):\n",
        "    noise = np.random.normal(mean, std, img.shape).astype(np.float32)\n",
        "    noisy = img + noise\n",
        "    noisy = np.clip(noisy, 0, 1)\n",
        "    return noisy"
      ]
    },
    {
      "cell_type": "code",
      "execution_count": 4,
      "metadata": {
        "id": "S_XYOxK--ubg"
      },
      "outputs": [],
      "source": [
        "def blur_image_cv(img, ksize=5):\n",
        "    ksize = (ksize, ksize)\n",
        "    blurred = cv2.blur(img, ksize)\n",
        "    return blurred"
      ]
    },
    {
      "cell_type": "code",
      "execution_count": null,
      "metadata": {
        "id": "yti4KArW_Ltz"
      },
      "outputs": [],
      "source": [
        "def random_corruption(img):\n",
        "    corrupted = img\n",
        "    if random.random() < 0.5:\n",
        "        corrupted = add_gaussian_noise_cv(corrupted)\n",
        "    if random.random() < 0.5:\n",
        "        corrupted = blur_image_cv(corrupted)\n",
        "    if random.random() < 0.3:\n",
        "        corrupted = apply_random_mask_pil(corrupted)\n",
        "    return corrupted"
      ]
    }
  ],
  "metadata": {
    "colab": {
      "provenance": []
    },
    "kernelspec": {
      "display_name": "Python 3",
      "name": "python3"
    },
    "language_info": {
      "codemirror_mode": {
        "name": "ipython",
        "version": 3
      },
      "file_extension": ".py",
      "mimetype": "text/x-python",
      "name": "python",
      "nbconvert_exporter": "python",
      "pygments_lexer": "ipython3",
      "version": "3.12.1"
    }
  },
  "nbformat": 4,
  "nbformat_minor": 0
}
